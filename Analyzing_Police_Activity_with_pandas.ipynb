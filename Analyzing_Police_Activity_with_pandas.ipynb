{
  "nbformat": 4,
  "nbformat_minor": 0,
  "metadata": {
    "colab": {
      "name": "Analyzing Police Activity with pandas.ipynb",
      "provenance": [],
      "collapsed_sections": [],
      "authorship_tag": "ABX9TyPllEoK7v1QqJ1Cmu8jwHr8",
      "include_colab_link": true
    },
    "kernelspec": {
      "name": "python3",
      "display_name": "Python 3"
    }
  },
  "cells": [
    {
      "cell_type": "markdown",
      "metadata": {
        "id": "view-in-github",
        "colab_type": "text"
      },
      "source": [
        "<a href=\"https://colab.research.google.com/github/manoj7pal/Airline-Analysis-Project-via-Apache-Hive/blob/master/Analyzing_Police_Activity_with_pandas.ipynb\" target=\"_parent\"><img src=\"https://colab.research.google.com/assets/colab-badge.svg\" alt=\"Open In Colab\"/></a>"
      ]
    },
    {
      "cell_type": "markdown",
      "metadata": {
        "id": "s7OMH6oWkxba",
        "colab_type": "text"
      },
      "source": [
        "# Analyzing Police Activity with pandas"
      ]
    },
    {
      "cell_type": "code",
      "metadata": {
        "id": "RuaoUAhplSnw",
        "colab_type": "code",
        "colab": {}
      },
      "source": [
        "import pandas as pd"
      ],
      "execution_count": 86,
      "outputs": []
    },
    {
      "cell_type": "markdown",
      "metadata": {
        "id": "go5sxjqGoQXY",
        "colab_type": "text"
      },
      "source": [
        "## 1. Load the Data"
      ]
    },
    {
      "cell_type": "code",
      "metadata": {
        "id": "wdM3VgTGk4NE",
        "colab_type": "code",
        "colab": {
          "base_uri": "https://localhost:8080/",
          "height": 34
        },
        "outputId": "e58ee311-e0d0-456e-f201-a9252fed18bc"
      },
      "source": [
        "# Datasets\n",
        "\n",
        "police_stops_ri = pd.read_csv('https://assets.datacamp.com/production/repositories/1497/datasets/62bd9feef451860db02d26553613a299721882e8/police.csv', parse_dates = True)\n",
        "weather_rhode = pd.read_csv('https://assets.datacamp.com/production/repositories/1497/datasets/02f3fb2d4416d3f6626e1117688e0386784e8e55/weather.csv', parse_dates = True)\n",
        "\n",
        "police_stops_ri.shape, weather_rhode.shape"
      ],
      "execution_count": 87,
      "outputs": [
        {
          "output_type": "execute_result",
          "data": {
            "text/plain": [
              "((91741, 15), (4017, 27))"
            ]
          },
          "metadata": {
            "tags": []
          },
          "execution_count": 87
        }
      ]
    },
    {
      "cell_type": "code",
      "metadata": {
        "id": "R_Bp8maXlWTy",
        "colab_type": "code",
        "colab": {
          "base_uri": "https://localhost:8080/",
          "height": 309
        },
        "outputId": "73ec51d6-8fc6-4667-c432-59e6ea7f2655"
      },
      "source": [
        "police_stops_ri.head()"
      ],
      "execution_count": 88,
      "outputs": [
        {
          "output_type": "execute_result",
          "data": {
            "text/html": [
              "<div>\n",
              "<style scoped>\n",
              "    .dataframe tbody tr th:only-of-type {\n",
              "        vertical-align: middle;\n",
              "    }\n",
              "\n",
              "    .dataframe tbody tr th {\n",
              "        vertical-align: top;\n",
              "    }\n",
              "\n",
              "    .dataframe thead th {\n",
              "        text-align: right;\n",
              "    }\n",
              "</style>\n",
              "<table border=\"1\" class=\"dataframe\">\n",
              "  <thead>\n",
              "    <tr style=\"text-align: right;\">\n",
              "      <th></th>\n",
              "      <th>state</th>\n",
              "      <th>stop_date</th>\n",
              "      <th>stop_time</th>\n",
              "      <th>county_name</th>\n",
              "      <th>driver_gender</th>\n",
              "      <th>driver_race</th>\n",
              "      <th>violation_raw</th>\n",
              "      <th>violation</th>\n",
              "      <th>search_conducted</th>\n",
              "      <th>search_type</th>\n",
              "      <th>stop_outcome</th>\n",
              "      <th>is_arrested</th>\n",
              "      <th>stop_duration</th>\n",
              "      <th>drugs_related_stop</th>\n",
              "      <th>district</th>\n",
              "    </tr>\n",
              "  </thead>\n",
              "  <tbody>\n",
              "    <tr>\n",
              "      <th>0</th>\n",
              "      <td>RI</td>\n",
              "      <td>2005-01-04</td>\n",
              "      <td>12:55</td>\n",
              "      <td>NaN</td>\n",
              "      <td>M</td>\n",
              "      <td>White</td>\n",
              "      <td>Equipment/Inspection Violation</td>\n",
              "      <td>Equipment</td>\n",
              "      <td>False</td>\n",
              "      <td>NaN</td>\n",
              "      <td>Citation</td>\n",
              "      <td>False</td>\n",
              "      <td>0-15 Min</td>\n",
              "      <td>False</td>\n",
              "      <td>Zone X4</td>\n",
              "    </tr>\n",
              "    <tr>\n",
              "      <th>1</th>\n",
              "      <td>RI</td>\n",
              "      <td>2005-01-23</td>\n",
              "      <td>23:15</td>\n",
              "      <td>NaN</td>\n",
              "      <td>M</td>\n",
              "      <td>White</td>\n",
              "      <td>Speeding</td>\n",
              "      <td>Speeding</td>\n",
              "      <td>False</td>\n",
              "      <td>NaN</td>\n",
              "      <td>Citation</td>\n",
              "      <td>False</td>\n",
              "      <td>0-15 Min</td>\n",
              "      <td>False</td>\n",
              "      <td>Zone K3</td>\n",
              "    </tr>\n",
              "    <tr>\n",
              "      <th>2</th>\n",
              "      <td>RI</td>\n",
              "      <td>2005-02-17</td>\n",
              "      <td>04:15</td>\n",
              "      <td>NaN</td>\n",
              "      <td>M</td>\n",
              "      <td>White</td>\n",
              "      <td>Speeding</td>\n",
              "      <td>Speeding</td>\n",
              "      <td>False</td>\n",
              "      <td>NaN</td>\n",
              "      <td>Citation</td>\n",
              "      <td>False</td>\n",
              "      <td>0-15 Min</td>\n",
              "      <td>False</td>\n",
              "      <td>Zone X4</td>\n",
              "    </tr>\n",
              "    <tr>\n",
              "      <th>3</th>\n",
              "      <td>RI</td>\n",
              "      <td>2005-02-20</td>\n",
              "      <td>17:15</td>\n",
              "      <td>NaN</td>\n",
              "      <td>M</td>\n",
              "      <td>White</td>\n",
              "      <td>Call for Service</td>\n",
              "      <td>Other</td>\n",
              "      <td>False</td>\n",
              "      <td>NaN</td>\n",
              "      <td>Arrest Driver</td>\n",
              "      <td>True</td>\n",
              "      <td>16-30 Min</td>\n",
              "      <td>False</td>\n",
              "      <td>Zone X1</td>\n",
              "    </tr>\n",
              "    <tr>\n",
              "      <th>4</th>\n",
              "      <td>RI</td>\n",
              "      <td>2005-02-24</td>\n",
              "      <td>01:20</td>\n",
              "      <td>NaN</td>\n",
              "      <td>F</td>\n",
              "      <td>White</td>\n",
              "      <td>Speeding</td>\n",
              "      <td>Speeding</td>\n",
              "      <td>False</td>\n",
              "      <td>NaN</td>\n",
              "      <td>Citation</td>\n",
              "      <td>False</td>\n",
              "      <td>0-15 Min</td>\n",
              "      <td>False</td>\n",
              "      <td>Zone X3</td>\n",
              "    </tr>\n",
              "  </tbody>\n",
              "</table>\n",
              "</div>"
            ],
            "text/plain": [
              "  state   stop_date stop_time  ...  stop_duration drugs_related_stop district\n",
              "0    RI  2005-01-04     12:55  ...       0-15 Min              False  Zone X4\n",
              "1    RI  2005-01-23     23:15  ...       0-15 Min              False  Zone K3\n",
              "2    RI  2005-02-17     04:15  ...       0-15 Min              False  Zone X4\n",
              "3    RI  2005-02-20     17:15  ...      16-30 Min              False  Zone X1\n",
              "4    RI  2005-02-24     01:20  ...       0-15 Min              False  Zone X3\n",
              "\n",
              "[5 rows x 15 columns]"
            ]
          },
          "metadata": {
            "tags": []
          },
          "execution_count": 88
        }
      ]
    },
    {
      "cell_type": "code",
      "metadata": {
        "id": "XmAwFk9AlbIZ",
        "colab_type": "code",
        "colab": {
          "base_uri": "https://localhost:8080/",
          "height": 204
        },
        "outputId": "0c32198a-5040-4ba1-a82a-d79bb2afc4de"
      },
      "source": [
        "weather_rhode.head()"
      ],
      "execution_count": 89,
      "outputs": [
        {
          "output_type": "execute_result",
          "data": {
            "text/html": [
              "<div>\n",
              "<style scoped>\n",
              "    .dataframe tbody tr th:only-of-type {\n",
              "        vertical-align: middle;\n",
              "    }\n",
              "\n",
              "    .dataframe tbody tr th {\n",
              "        vertical-align: top;\n",
              "    }\n",
              "\n",
              "    .dataframe thead th {\n",
              "        text-align: right;\n",
              "    }\n",
              "</style>\n",
              "<table border=\"1\" class=\"dataframe\">\n",
              "  <thead>\n",
              "    <tr style=\"text-align: right;\">\n",
              "      <th></th>\n",
              "      <th>STATION</th>\n",
              "      <th>DATE</th>\n",
              "      <th>TAVG</th>\n",
              "      <th>TMIN</th>\n",
              "      <th>TMAX</th>\n",
              "      <th>AWND</th>\n",
              "      <th>WSF2</th>\n",
              "      <th>WT01</th>\n",
              "      <th>WT02</th>\n",
              "      <th>WT03</th>\n",
              "      <th>WT04</th>\n",
              "      <th>WT05</th>\n",
              "      <th>WT06</th>\n",
              "      <th>WT07</th>\n",
              "      <th>WT08</th>\n",
              "      <th>WT09</th>\n",
              "      <th>WT10</th>\n",
              "      <th>WT11</th>\n",
              "      <th>WT13</th>\n",
              "      <th>WT14</th>\n",
              "      <th>WT15</th>\n",
              "      <th>WT16</th>\n",
              "      <th>WT17</th>\n",
              "      <th>WT18</th>\n",
              "      <th>WT19</th>\n",
              "      <th>WT21</th>\n",
              "      <th>WT22</th>\n",
              "    </tr>\n",
              "  </thead>\n",
              "  <tbody>\n",
              "    <tr>\n",
              "      <th>0</th>\n",
              "      <td>USW00014765</td>\n",
              "      <td>2005-01-01</td>\n",
              "      <td>44.0</td>\n",
              "      <td>35</td>\n",
              "      <td>53</td>\n",
              "      <td>8.95</td>\n",
              "      <td>25.1</td>\n",
              "      <td>1.0</td>\n",
              "      <td>NaN</td>\n",
              "      <td>NaN</td>\n",
              "      <td>NaN</td>\n",
              "      <td>NaN</td>\n",
              "      <td>NaN</td>\n",
              "      <td>NaN</td>\n",
              "      <td>NaN</td>\n",
              "      <td>NaN</td>\n",
              "      <td>NaN</td>\n",
              "      <td>NaN</td>\n",
              "      <td>1.0</td>\n",
              "      <td>NaN</td>\n",
              "      <td>NaN</td>\n",
              "      <td>NaN</td>\n",
              "      <td>NaN</td>\n",
              "      <td>NaN</td>\n",
              "      <td>NaN</td>\n",
              "      <td>NaN</td>\n",
              "      <td>NaN</td>\n",
              "    </tr>\n",
              "    <tr>\n",
              "      <th>1</th>\n",
              "      <td>USW00014765</td>\n",
              "      <td>2005-01-02</td>\n",
              "      <td>36.0</td>\n",
              "      <td>28</td>\n",
              "      <td>44</td>\n",
              "      <td>9.40</td>\n",
              "      <td>14.1</td>\n",
              "      <td>NaN</td>\n",
              "      <td>NaN</td>\n",
              "      <td>NaN</td>\n",
              "      <td>NaN</td>\n",
              "      <td>NaN</td>\n",
              "      <td>NaN</td>\n",
              "      <td>NaN</td>\n",
              "      <td>NaN</td>\n",
              "      <td>NaN</td>\n",
              "      <td>NaN</td>\n",
              "      <td>NaN</td>\n",
              "      <td>NaN</td>\n",
              "      <td>NaN</td>\n",
              "      <td>NaN</td>\n",
              "      <td>1.0</td>\n",
              "      <td>NaN</td>\n",
              "      <td>1.0</td>\n",
              "      <td>NaN</td>\n",
              "      <td>NaN</td>\n",
              "      <td>NaN</td>\n",
              "    </tr>\n",
              "    <tr>\n",
              "      <th>2</th>\n",
              "      <td>USW00014765</td>\n",
              "      <td>2005-01-03</td>\n",
              "      <td>49.0</td>\n",
              "      <td>44</td>\n",
              "      <td>53</td>\n",
              "      <td>6.93</td>\n",
              "      <td>17.0</td>\n",
              "      <td>1.0</td>\n",
              "      <td>NaN</td>\n",
              "      <td>NaN</td>\n",
              "      <td>NaN</td>\n",
              "      <td>NaN</td>\n",
              "      <td>NaN</td>\n",
              "      <td>NaN</td>\n",
              "      <td>NaN</td>\n",
              "      <td>NaN</td>\n",
              "      <td>NaN</td>\n",
              "      <td>NaN</td>\n",
              "      <td>1.0</td>\n",
              "      <td>NaN</td>\n",
              "      <td>NaN</td>\n",
              "      <td>1.0</td>\n",
              "      <td>NaN</td>\n",
              "      <td>NaN</td>\n",
              "      <td>NaN</td>\n",
              "      <td>NaN</td>\n",
              "      <td>NaN</td>\n",
              "    </tr>\n",
              "    <tr>\n",
              "      <th>3</th>\n",
              "      <td>USW00014765</td>\n",
              "      <td>2005-01-04</td>\n",
              "      <td>42.0</td>\n",
              "      <td>39</td>\n",
              "      <td>45</td>\n",
              "      <td>6.93</td>\n",
              "      <td>16.1</td>\n",
              "      <td>1.0</td>\n",
              "      <td>NaN</td>\n",
              "      <td>NaN</td>\n",
              "      <td>NaN</td>\n",
              "      <td>NaN</td>\n",
              "      <td>NaN</td>\n",
              "      <td>NaN</td>\n",
              "      <td>NaN</td>\n",
              "      <td>NaN</td>\n",
              "      <td>NaN</td>\n",
              "      <td>NaN</td>\n",
              "      <td>1.0</td>\n",
              "      <td>1.0</td>\n",
              "      <td>NaN</td>\n",
              "      <td>1.0</td>\n",
              "      <td>NaN</td>\n",
              "      <td>NaN</td>\n",
              "      <td>NaN</td>\n",
              "      <td>NaN</td>\n",
              "      <td>NaN</td>\n",
              "    </tr>\n",
              "    <tr>\n",
              "      <th>4</th>\n",
              "      <td>USW00014765</td>\n",
              "      <td>2005-01-05</td>\n",
              "      <td>36.0</td>\n",
              "      <td>28</td>\n",
              "      <td>43</td>\n",
              "      <td>7.83</td>\n",
              "      <td>17.0</td>\n",
              "      <td>1.0</td>\n",
              "      <td>NaN</td>\n",
              "      <td>NaN</td>\n",
              "      <td>NaN</td>\n",
              "      <td>NaN</td>\n",
              "      <td>NaN</td>\n",
              "      <td>NaN</td>\n",
              "      <td>NaN</td>\n",
              "      <td>NaN</td>\n",
              "      <td>NaN</td>\n",
              "      <td>NaN</td>\n",
              "      <td>1.0</td>\n",
              "      <td>NaN</td>\n",
              "      <td>NaN</td>\n",
              "      <td>1.0</td>\n",
              "      <td>NaN</td>\n",
              "      <td>1.0</td>\n",
              "      <td>NaN</td>\n",
              "      <td>NaN</td>\n",
              "      <td>NaN</td>\n",
              "    </tr>\n",
              "  </tbody>\n",
              "</table>\n",
              "</div>"
            ],
            "text/plain": [
              "       STATION        DATE  TAVG  TMIN  TMAX  ...  WT17  WT18  WT19  WT21  WT22\n",
              "0  USW00014765  2005-01-01  44.0    35    53  ...   NaN   NaN   NaN   NaN   NaN\n",
              "1  USW00014765  2005-01-02  36.0    28    44  ...   NaN   1.0   NaN   NaN   NaN\n",
              "2  USW00014765  2005-01-03  49.0    44    53  ...   NaN   NaN   NaN   NaN   NaN\n",
              "3  USW00014765  2005-01-04  42.0    39    45  ...   NaN   NaN   NaN   NaN   NaN\n",
              "4  USW00014765  2005-01-05  36.0    28    43  ...   NaN   1.0   NaN   NaN   NaN\n",
              "\n",
              "[5 rows x 27 columns]"
            ]
          },
          "metadata": {
            "tags": []
          },
          "execution_count": 89
        }
      ]
    },
    {
      "cell_type": "markdown",
      "metadata": {
        "id": "OZtrU8aEn-7D",
        "colab_type": "text"
      },
      "source": [
        "## 2. Preparing the Data\n",
        "  a. Examine the Data.<br/> \n",
        "  b. Clean the Data. "
      ]
    },
    {
      "cell_type": "code",
      "metadata": {
        "id": "Hallt_JWooE8",
        "colab_type": "code",
        "colab": {
          "base_uri": "https://localhost:8080/",
          "height": 289
        },
        "outputId": "f89cad63-441a-4748-da31-442d1ee6308d"
      },
      "source": [
        "# Locate missing Values\n",
        "print(police_stops_ri.isna().sum())\n",
        "# print(weather_rhode.isna().sum())"
      ],
      "execution_count": 90,
      "outputs": [
        {
          "output_type": "stream",
          "text": [
            "state                     0\n",
            "stop_date                 0\n",
            "stop_time                 0\n",
            "county_name           91741\n",
            "driver_gender          5205\n",
            "driver_race            5202\n",
            "violation_raw          5202\n",
            "violation              5202\n",
            "search_conducted          0\n",
            "search_type           88434\n",
            "stop_outcome           5202\n",
            "is_arrested            5202\n",
            "stop_duration          5202\n",
            "drugs_related_stop        0\n",
            "district                  0\n",
            "dtype: int64\n"
          ],
          "name": "stdout"
        }
      ]
    },
    {
      "cell_type": "code",
      "metadata": {
        "id": "kxysa8MUohqD",
        "colab_type": "code",
        "colab": {
          "base_uri": "https://localhost:8080/",
          "height": 51
        },
        "outputId": "c4e398c3-9295-4c68-ce5b-a50a0786262f"
      },
      "source": [
        "\"\"\" \n",
        "Drop irrelevant columns\n",
        "  - County name: Missing Values\n",
        "  - State: Dataset is of RI only\n",
        "  - search_type: Lots of missing values \n",
        "\"\"\"\n",
        "print(police_stops_ri.shape)\n",
        "police_stops_ri.drop(labels = ['state', 'county_name', 'search_type'], axis = 'columns', inplace=True)\n",
        "print(police_stops_ri.shape)"
      ],
      "execution_count": 91,
      "outputs": [
        {
          "output_type": "stream",
          "text": [
            "(91741, 15)\n",
            "(91741, 12)\n"
          ],
          "name": "stdout"
        }
      ]
    },
    {
      "cell_type": "code",
      "metadata": {
        "id": "2XY00dMBogHd",
        "colab_type": "code",
        "colab": {
          "base_uri": "https://localhost:8080/",
          "height": 255
        },
        "outputId": "5b011b31-8cf2-4ede-9705-7be742b38da1"
      },
      "source": [
        "\"\"\"\n",
        "The driver_gender column will be critical to many of your analyses. Because only a small fraction of rows are missing driver_gender, we'll drop those rows from the dataset.\n",
        "\"\"\"\n",
        "\n",
        "police_stops_ri.dropna(subset = ['driver_gender'], axis= 'rows', inplace=True)\n",
        "print(police_stops_ri.shape)\n",
        "print(police_stops_ri.isna().sum())"
      ],
      "execution_count": 92,
      "outputs": [
        {
          "output_type": "stream",
          "text": [
            "(86536, 12)\n",
            "stop_date             0\n",
            "stop_time             0\n",
            "driver_gender         0\n",
            "driver_race           0\n",
            "violation_raw         0\n",
            "violation             0\n",
            "search_conducted      0\n",
            "stop_outcome          0\n",
            "is_arrested           0\n",
            "stop_duration         0\n",
            "drugs_related_stop    0\n",
            "district              0\n",
            "dtype: int64\n"
          ],
          "name": "stdout"
        }
      ]
    },
    {
      "cell_type": "code",
      "metadata": {
        "id": "PCW2-Ndmt7qY",
        "colab_type": "code",
        "colab": {
          "base_uri": "https://localhost:8080/",
          "height": 357
        },
        "outputId": "a0065f7b-226c-41ec-9cd0-23f295ca9906"
      },
      "source": [
        "print(police_stops_ri.info())"
      ],
      "execution_count": 93,
      "outputs": [
        {
          "output_type": "stream",
          "text": [
            "<class 'pandas.core.frame.DataFrame'>\n",
            "Int64Index: 86536 entries, 0 to 91740\n",
            "Data columns (total 12 columns):\n",
            " #   Column              Non-Null Count  Dtype \n",
            "---  ------              --------------  ----- \n",
            " 0   stop_date           86536 non-null  object\n",
            " 1   stop_time           86536 non-null  object\n",
            " 2   driver_gender       86536 non-null  object\n",
            " 3   driver_race         86536 non-null  object\n",
            " 4   violation_raw       86536 non-null  object\n",
            " 5   violation           86536 non-null  object\n",
            " 6   search_conducted    86536 non-null  bool  \n",
            " 7   stop_outcome        86536 non-null  object\n",
            " 8   is_arrested         86536 non-null  object\n",
            " 9   stop_duration       86536 non-null  object\n",
            " 10  drugs_related_stop  86536 non-null  bool  \n",
            " 11  district            86536 non-null  object\n",
            "dtypes: bool(2), object(10)\n",
            "memory usage: 7.4+ MB\n",
            "None\n"
          ],
          "name": "stdout"
        }
      ]
    },
    {
      "cell_type": "code",
      "metadata": {
        "id": "HK3XOGeGuvy1",
        "colab_type": "code",
        "colab": {
          "base_uri": "https://localhost:8080/",
          "height": 357
        },
        "outputId": "9e3afdb1-eb25-4931-ddcf-dd29fee7542c"
      },
      "source": [
        "# Fixing Data Types\n",
        "  # Stop Date and time to Date time\n",
        "  # is-arrested  to bool\n",
        "\n",
        "# police_stops_ri['stop_date'] = pd.to_datetime(police_stops_ri.stop_date)\n",
        "# police_stops_ri['stop_time'] = pd.to_datetime(police_stops_ri.stop_time)\n",
        "\n",
        "police_stops_ri['is_arrested'] = police_stops_ri.is_arrested.astype('bool')\n",
        "\n",
        "print(police_stops_ri.info())"
      ],
      "execution_count": 94,
      "outputs": [
        {
          "output_type": "stream",
          "text": [
            "<class 'pandas.core.frame.DataFrame'>\n",
            "Int64Index: 86536 entries, 0 to 91740\n",
            "Data columns (total 12 columns):\n",
            " #   Column              Non-Null Count  Dtype \n",
            "---  ------              --------------  ----- \n",
            " 0   stop_date           86536 non-null  object\n",
            " 1   stop_time           86536 non-null  object\n",
            " 2   driver_gender       86536 non-null  object\n",
            " 3   driver_race         86536 non-null  object\n",
            " 4   violation_raw       86536 non-null  object\n",
            " 5   violation           86536 non-null  object\n",
            " 6   search_conducted    86536 non-null  bool  \n",
            " 7   stop_outcome        86536 non-null  object\n",
            " 8   is_arrested         86536 non-null  bool  \n",
            " 9   stop_duration       86536 non-null  object\n",
            " 10  drugs_related_stop  86536 non-null  bool  \n",
            " 11  district            86536 non-null  object\n",
            "dtypes: bool(3), object(9)\n",
            "memory usage: 6.8+ MB\n",
            "None\n"
          ],
          "name": "stdout"
        }
      ]
    },
    {
      "cell_type": "code",
      "metadata": {
        "id": "Z1PR8WxOt5gx",
        "colab_type": "code",
        "colab": {
          "base_uri": "https://localhost:8080/",
          "height": 235
        },
        "outputId": "f9cbe6b7-f189-4211-c4a9-2097aa1cc85d"
      },
      "source": [
        "# Combine stop_date and time - Convert to datetime format - Creating a DateTimeIndex \n",
        "\n",
        "police_stops_ri['stop_date_time'] = police_stops_ri.stop_date.str.cat(police_stops_ri.stop_time, sep= ' ')\n",
        "police_stops_ri['stop_date_time'] = pd.to_datetime(police_stops_ri['stop_date_time'])\n",
        "police_stops_ri.set_index('stop_date_time', inplace = True)\n",
        "\n",
        "police_stops_ri.drop(labels = ['stop_date', 'stop_time'], axis = 'columns', inplace=True)\n",
        "police_stops_ri.head()"
      ],
      "execution_count": 95,
      "outputs": [
        {
          "output_type": "execute_result",
          "data": {
            "text/html": [
              "<div>\n",
              "<style scoped>\n",
              "    .dataframe tbody tr th:only-of-type {\n",
              "        vertical-align: middle;\n",
              "    }\n",
              "\n",
              "    .dataframe tbody tr th {\n",
              "        vertical-align: top;\n",
              "    }\n",
              "\n",
              "    .dataframe thead th {\n",
              "        text-align: right;\n",
              "    }\n",
              "</style>\n",
              "<table border=\"1\" class=\"dataframe\">\n",
              "  <thead>\n",
              "    <tr style=\"text-align: right;\">\n",
              "      <th></th>\n",
              "      <th>driver_gender</th>\n",
              "      <th>driver_race</th>\n",
              "      <th>violation_raw</th>\n",
              "      <th>violation</th>\n",
              "      <th>search_conducted</th>\n",
              "      <th>stop_outcome</th>\n",
              "      <th>is_arrested</th>\n",
              "      <th>stop_duration</th>\n",
              "      <th>drugs_related_stop</th>\n",
              "      <th>district</th>\n",
              "    </tr>\n",
              "    <tr>\n",
              "      <th>stop_date_time</th>\n",
              "      <th></th>\n",
              "      <th></th>\n",
              "      <th></th>\n",
              "      <th></th>\n",
              "      <th></th>\n",
              "      <th></th>\n",
              "      <th></th>\n",
              "      <th></th>\n",
              "      <th></th>\n",
              "      <th></th>\n",
              "    </tr>\n",
              "  </thead>\n",
              "  <tbody>\n",
              "    <tr>\n",
              "      <th>2005-01-04 12:55:00</th>\n",
              "      <td>M</td>\n",
              "      <td>White</td>\n",
              "      <td>Equipment/Inspection Violation</td>\n",
              "      <td>Equipment</td>\n",
              "      <td>False</td>\n",
              "      <td>Citation</td>\n",
              "      <td>False</td>\n",
              "      <td>0-15 Min</td>\n",
              "      <td>False</td>\n",
              "      <td>Zone X4</td>\n",
              "    </tr>\n",
              "    <tr>\n",
              "      <th>2005-01-23 23:15:00</th>\n",
              "      <td>M</td>\n",
              "      <td>White</td>\n",
              "      <td>Speeding</td>\n",
              "      <td>Speeding</td>\n",
              "      <td>False</td>\n",
              "      <td>Citation</td>\n",
              "      <td>False</td>\n",
              "      <td>0-15 Min</td>\n",
              "      <td>False</td>\n",
              "      <td>Zone K3</td>\n",
              "    </tr>\n",
              "    <tr>\n",
              "      <th>2005-02-17 04:15:00</th>\n",
              "      <td>M</td>\n",
              "      <td>White</td>\n",
              "      <td>Speeding</td>\n",
              "      <td>Speeding</td>\n",
              "      <td>False</td>\n",
              "      <td>Citation</td>\n",
              "      <td>False</td>\n",
              "      <td>0-15 Min</td>\n",
              "      <td>False</td>\n",
              "      <td>Zone X4</td>\n",
              "    </tr>\n",
              "    <tr>\n",
              "      <th>2005-02-20 17:15:00</th>\n",
              "      <td>M</td>\n",
              "      <td>White</td>\n",
              "      <td>Call for Service</td>\n",
              "      <td>Other</td>\n",
              "      <td>False</td>\n",
              "      <td>Arrest Driver</td>\n",
              "      <td>True</td>\n",
              "      <td>16-30 Min</td>\n",
              "      <td>False</td>\n",
              "      <td>Zone X1</td>\n",
              "    </tr>\n",
              "    <tr>\n",
              "      <th>2005-02-24 01:20:00</th>\n",
              "      <td>F</td>\n",
              "      <td>White</td>\n",
              "      <td>Speeding</td>\n",
              "      <td>Speeding</td>\n",
              "      <td>False</td>\n",
              "      <td>Citation</td>\n",
              "      <td>False</td>\n",
              "      <td>0-15 Min</td>\n",
              "      <td>False</td>\n",
              "      <td>Zone X3</td>\n",
              "    </tr>\n",
              "  </tbody>\n",
              "</table>\n",
              "</div>"
            ],
            "text/plain": [
              "                    driver_gender driver_race  ... drugs_related_stop district\n",
              "stop_date_time                                 ...                            \n",
              "2005-01-04 12:55:00             M       White  ...              False  Zone X4\n",
              "2005-01-23 23:15:00             M       White  ...              False  Zone K3\n",
              "2005-02-17 04:15:00             M       White  ...              False  Zone X4\n",
              "2005-02-20 17:15:00             M       White  ...              False  Zone X1\n",
              "2005-02-24 01:20:00             F       White  ...              False  Zone X3\n",
              "\n",
              "[5 rows x 10 columns]"
            ]
          },
          "metadata": {
            "tags": []
          },
          "execution_count": 95
        }
      ]
    },
    {
      "cell_type": "markdown",
      "metadata": {
        "id": "J1KePjU81ZrM",
        "colab_type": "text"
      },
      "source": [
        "## 3. Analysis\n",
        "  **- Does the genders affects the Speeding Violation - Outcomes?**\n"
      ]
    },
    {
      "cell_type": "code",
      "metadata": {
        "id": "WT84yqIv1YI4",
        "colab_type": "code",
        "colab": {
          "base_uri": "https://localhost:8080/",
          "height": 136
        },
        "outputId": "a9c91837-5bf3-49f5-897e-aefdf40012ac"
      },
      "source": [
        "# Unique Values: Suited for Categorical values\n",
        "print(police_stops_ri.violation.value_counts())"
      ],
      "execution_count": 164,
      "outputs": [
        {
          "output_type": "stream",
          "text": [
            "Speeding               48423\n",
            "Moving violation       16224\n",
            "Equipment              10921\n",
            "Other                   4409\n",
            "Registration/plates     3703\n",
            "Seat belt               2856\n",
            "Name: violation, dtype: int64\n"
          ],
          "name": "stdout"
        }
      ]
    },
    {
      "cell_type": "code",
      "metadata": {
        "id": "GWlQWiljakoD",
        "colab_type": "code",
        "colab": {
          "base_uri": "https://localhost:8080/",
          "height": 136
        },
        "outputId": "4c221807-385c-4172-d06a-b9d3e12f5ceb"
      },
      "source": [
        "print(police_stops_ri.violation.value_counts(normalize=True) * 100)"
      ],
      "execution_count": 165,
      "outputs": [
        {
          "output_type": "stream",
          "text": [
            "Speeding               55.957058\n",
            "Moving violation       18.748267\n",
            "Equipment              12.620181\n",
            "Other                   5.094989\n",
            "Registration/plates     4.279144\n",
            "Seat belt               3.300361\n",
            "Name: violation, dtype: float64\n"
          ],
          "name": "stdout"
        }
      ]
    },
    {
      "cell_type": "code",
      "metadata": {
        "id": "9E3V7kelnog7",
        "colab_type": "code",
        "colab": {
          "base_uri": "https://localhost:8080/",
          "height": 136
        },
        "outputId": "c30990c2-d4ee-4772-fbd5-6c43130feb2f"
      },
      "source": [
        "# Proportion or Percentages of Values of a column\n",
        "print(police_stops_ri.stop_outcome.value_counts(normalize=True) * 100)"
      ],
      "execution_count": 116,
      "outputs": [
        {
          "output_type": "stream",
          "text": [
            "Citation            89.085467\n",
            "Warning              5.935102\n",
            "Arrest Driver        3.160534\n",
            "No Action            0.721087\n",
            "N/D                  0.701442\n",
            "Arrest Passenger     0.396367\n",
            "Name: stop_outcome, dtype: float64\n"
          ],
          "name": "stdout"
        }
      ]
    },
    {
      "cell_type": "code",
      "metadata": {
        "id": "W9Deo8ulTdrH",
        "colab_type": "code",
        "colab": {
          "base_uri": "https://localhost:8080/",
          "height": 119
        },
        "outputId": "c89f2788-e043-49d5-e97d-46c71f48718f"
      },
      "source": [
        "# Speeding and Gender Wise - Outcome Proportion\n",
        "male_speeding = police_stops_ri[ (police_stops_ri.driver_gender == 'M') & (police_stops_ri.violation == 'Speeding') ]\n",
        "female_speeding = police_stops_ri[ (police_stops_ri.driver_gender == 'F') & (police_stops_ri.violation == 'Speeding') ]\n",
        "\n",
        "all = pd.DataFrame()\n",
        "all['Male %'] = male_violations.stop_outcome.value_counts(normalize=True) * 100\n",
        "all['Female %'] = female_violations.stop_outcome.value_counts(normalize=True) * 100\n",
        "\n",
        "print(all.head())"
      ],
      "execution_count": 179,
      "outputs": [
        {
          "output_type": "stream",
          "text": [
            "                  Male %   Female %\n",
            "Citation       88.971033  89.387566\n",
            "Warning         5.817214   6.246320\n",
            "Arrest Driver   3.471846   2.338689\n",
            "N/D             0.699468   0.706654\n",
            "No Action       0.673975   0.845461\n"
          ],
          "name": "stdout"
        }
      ]
    },
    {
      "cell_type": "markdown",
      "metadata": {
        "id": "NEnzcyCjtdEG",
        "colab_type": "text"
      },
      "source": [
        "**- Does the genders commit different violations?**"
      ]
    },
    {
      "cell_type": "code",
      "metadata": {
        "id": "7CaPbL6YudIi",
        "colab_type": "code",
        "colab": {
          "base_uri": "https://localhost:8080/",
          "height": 136
        },
        "outputId": "61e29fd2-891f-48d0-d2f7-176666f8d6aa"
      },
      "source": [
        "# Gender Wise Violations %\n",
        "male = police_stops_ri[(police_stops_ri.driver_gender == 'M')]\n",
        "female = police_stops_ri[(police_stops_ri.driver_gender == 'F')]\n",
        "\n",
        "all = pd.DataFrame()\n",
        "all['Male %'] = male.violation.value_counts(normalize=True) * 100\n",
        "all['Female %'] = female.violation.value_counts(normalize=True) * 100\n",
        "print(all)"
      ],
      "execution_count": 185,
      "outputs": [
        {
          "output_type": "stream",
          "text": [
            "                        Male %   Female %\n",
            "Speeding             52.224276  65.811391\n",
            "Moving violation     20.614385  13.821822\n",
            "Equipment            13.415761  10.519896\n",
            "Other                 5.898474   2.973837\n",
            "Registration/plates   4.217520   4.441827\n",
            "Seat belt             3.629585   2.431227\n"
          ],
          "name": "stdout"
        }
      ]
    },
    {
      "cell_type": "markdown",
      "metadata": {
        "id": "K24iVuJnu-jq",
        "colab_type": "text"
      },
      "source": [
        "**- Does the genders affects Arrest - for different violations?**"
      ]
    },
    {
      "cell_type": "code",
      "metadata": {
        "id": "GfLRRfOMtdhQ",
        "colab_type": "code",
        "colab": {
          "base_uri": "https://localhost:8080/",
          "height": 136
        },
        "outputId": "3b36e03e-a17d-4c0e-f503-5772b9ca5670"
      },
      "source": [
        "# Arrest % - Gender Wise\n",
        "male_arrest = police_stops_ri[(police_stops_ri.driver_gender == 'M') & (police_stops_ri.is_arrested == True)]\n",
        "female_arrest = police_stops_ri[(police_stops_ri.driver_gender == 'F') & (police_stops_ri.is_arrested == True)]\n",
        "\n",
        "all = pd.DataFrame()\n",
        "all['Male %'] = male_arrest.violation.value_counts(normalize=True) * 100\n",
        "all['Female %'] = female_arrest.violation.value_counts(normalize=True) * 100\n",
        "print(all)"
      ],
      "execution_count": 183,
      "outputs": [
        {
          "output_type": "stream",
          "text": [
            "                        Male %   Female %\n",
            "Moving violation     30.136986  31.988042\n",
            "Speeding             23.370693  14.947683\n",
            "Equipment            22.415940  25.261584\n",
            "Other                11.207970  12.107623\n",
            "Registration/plates  10.294728  13.751868\n",
            "Seat belt             2.573682   1.943199\n"
          ],
          "name": "stdout"
        }
      ]
    },
    {
      "cell_type": "markdown",
      "metadata": {
        "id": "4kdI5scftGMW",
        "colab_type": "text"
      },
      "source": [
        "**- Does Gender affects whose vehicle is searched ?**</br>\n"
      ]
    },
    {
      "cell_type": "code",
      "metadata": {
        "id": "M79q-VQYtU0F",
        "colab_type": "code",
        "colab": {
          "base_uri": "https://localhost:8080/",
          "height": 68
        },
        "outputId": "78f95b55-f2fd-422b-b620-8b6a3e01b91b"
      },
      "source": [
        "all = pd.DataFrame()\n",
        "all['Male %'] = male.search_conducted.value_counts(normalize=True) * 100\n",
        "all['Female %'] = female.search_conducted.value_counts(normalize=True) * 100\n",
        "all['Total %'] = police_stops_ri.search_conducted.value_counts(normalize=True) * 100\n",
        "print(all)"
      ],
      "execution_count": 206,
      "outputs": [
        {
          "output_type": "stream",
          "text": [
            "          Male %   Female %    Total %\n",
            "False  95.457442  98.081938  96.178469\n",
            "True    4.542558   1.918062   3.821531\n"
          ],
          "name": "stdout"
        }
      ]
    },
    {
      "cell_type": "code",
      "metadata": {
        "id": "3LXzO7OV0P9u",
        "colab_type": "code",
        "colab": {
          "base_uri": "https://localhost:8080/",
          "height": 34
        },
        "outputId": "d1939329-e740-4605-bca2-ae0dfd15080c"
      },
      "source": [
        "police_stops_ri.search_conducted.mean() * 100 # Total Search Rate"
      ],
      "execution_count": 205,
      "outputs": [
        {
          "output_type": "execute_result",
          "data": {
            "text/plain": [
              "3.82153092354627"
            ]
          },
          "metadata": {
            "tags": []
          },
          "execution_count": 205
        }
      ]
    },
    {
      "cell_type": "code",
      "metadata": {
        "id": "4Vr7DJy4z8jP",
        "colab_type": "code",
        "colab": {
          "base_uri": "https://localhost:8080/",
          "height": 34
        },
        "outputId": "b70ef89e-c965-4a98-ad28-d5c0366ea134"
      },
      "source": [
        "male.search_conducted.mean() * 100 # Male Search Rate"
      ],
      "execution_count": 203,
      "outputs": [
        {
          "output_type": "execute_result",
          "data": {
            "text/plain": [
              "4.542557598546892"
            ]
          },
          "metadata": {
            "tags": []
          },
          "execution_count": 203
        }
      ]
    },
    {
      "cell_type": "code",
      "metadata": {
        "id": "A7DRz1r1z_03",
        "colab_type": "code",
        "colab": {
          "base_uri": "https://localhost:8080/",
          "height": 34
        },
        "outputId": "7c76f9af-94d7-4733-ecc6-98920ee88e2f"
      },
      "source": [
        "female.search_conducted.mean() * 100  # Female Search Rate"
      ],
      "execution_count": 207,
      "outputs": [
        {
          "output_type": "execute_result",
          "data": {
            "text/plain": [
              "1.9180617481282074"
            ]
          },
          "metadata": {
            "tags": []
          },
          "execution_count": 207
        }
      ]
    },
    {
      "cell_type": "code",
      "metadata": {
        "id": "B8kbbZrL0_pG",
        "colab_type": "code",
        "colab": {
          "base_uri": "https://localhost:8080/",
          "height": 85
        },
        "outputId": "b6068d4a-9e77-4cae-cf44-be63f53caecd"
      },
      "source": [
        "police_stops_ri.groupby('driver_gender').search_conducted.mean() * 100"
      ],
      "execution_count": 210,
      "outputs": [
        {
          "output_type": "execute_result",
          "data": {
            "text/plain": [
              "driver_gender\n",
              "F    1.918062\n",
              "M    4.542558\n",
              "Name: search_conducted, dtype: float64"
            ]
          },
          "metadata": {
            "tags": []
          },
          "execution_count": 210
        }
      ]
    },
    {
      "cell_type": "markdown",
      "metadata": {
        "id": "Gg5CQE161rkL",
        "colab_type": "text"
      },
      "source": [
        "###### Conclusion: Wow! Male drivers are searched more than twice as often as female drivers. Why might this be?"
      ]
    },
    {
      "cell_type": "code",
      "metadata": {
        "id": "2AMeJKLh1RrD",
        "colab_type": "code",
        "colab": {
          "base_uri": "https://localhost:8080/",
          "height": 255
        },
        "outputId": "d6b275c4-454e-47a6-d93f-1d4468a5eb8b"
      },
      "source": [
        "# Calculate the search rate for each combination of gender and violation\n",
        "print(police_stops_ri.groupby([ 'violation', 'driver_gender']).search_conducted.mean() * 100)"
      ],
      "execution_count": 213,
      "outputs": [
        {
          "output_type": "stream",
          "text": [
            "violation            driver_gender\n",
            "Equipment            F                 3.998401\n",
            "                     M                 7.149644\n",
            "Moving violation     F                 3.925746\n",
            "                     M                 6.152419\n",
            "Other                F                 4.101839\n",
            "                     M                 4.619125\n",
            "Registration/plates  F                 5.492424\n",
            "                     M                10.880242\n",
            "Seat belt            F                 1.730104\n",
            "                     M                 3.511853\n",
            "Speeding             F                 0.830883\n",
            "                     M                 2.788541\n",
            "Name: search_conducted, dtype: float64\n"
          ],
          "name": "stdout"
        }
      ]
    }
  ]
}